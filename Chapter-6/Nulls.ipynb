{
 "cells": [
  {
   "cell_type": "code",
   "execution_count": 1,
   "metadata": {},
   "outputs": [],
   "source": [
    "from pyspark.sql import SparkSession"
   ]
  },
  {
   "cell_type": "code",
   "execution_count": 7,
   "metadata": {},
   "outputs": [],
   "source": [
    "from pyspark.sql.types import StructType, StructField, StringType, IntegerType, DoubleType, TimestampType\n",
    "from datetime import datetime"
   ]
  },
  {
   "cell_type": "code",
   "execution_count": 4,
   "metadata": {},
   "outputs": [
    {
     "name": "stderr",
     "output_type": "stream",
     "text": [
      "24/09/21 19:11:48 WARN Utils: Your hostname, abdul-basit-HP-ProBook-450-G8-Notebook-PC resolves to a loopback address: 127.0.1.1; using 10.11.16.167 instead (on interface wlp0s20f3)\n",
      "24/09/21 19:11:48 WARN Utils: Set SPARK_LOCAL_IP if you need to bind to another address\n",
      "Setting default log level to \"WARN\".\n",
      "To adjust logging level use sc.setLogLevel(newLevel). For SparkR, use setLogLevel(newLevel).\n",
      "24/09/21 19:11:49 WARN NativeCodeLoader: Unable to load native-hadoop library for your platform... using builtin-java classes where applicable\n",
      "24/09/21 19:11:49 WARN Utils: Service 'SparkUI' could not bind on port 4040. Attempting port 4041.\n"
     ]
    }
   ],
   "source": [
    "spark = SparkSession.builder.appName(\"WorkingWithNulls\").getOrCreate()"
   ]
  },
  {
   "cell_type": "code",
   "execution_count": 19,
   "metadata": {},
   "outputs": [],
   "source": [
    "schema = StructType([\n",
    "    StructField(\"InvoiceNo\", StringType(), nullable=True),\n",
    "    StructField(\"StockCode\", StringType(), True),\n",
    "    StructField(\"Description\", StringType(), True),\n",
    "    StructField(\"Quantity\", IntegerType(), True),\n",
    "    StructField(\"InvoiceDate\", TimestampType(), True),\n",
    "    StructField(\"UnitPrice\", DoubleType(), True),\n",
    "    StructField(\"CustomerID\", DoubleType(), True),\n",
    "    StructField(\"Country\", StringType(), True)\n",
    "])"
   ]
  },
  {
   "cell_type": "code",
   "execution_count": 21,
   "metadata": {},
   "outputs": [],
   "source": [
    "data = [\n",
    "    (\"536365\", \"85123A\", \"White Hanging Heart\", 6, datetime(2023, 9, 1, 10, 0, 0), 2.55, 17850.0, \"United Kingdom\"),\n",
    "    (\"536365\", \"71053\", \"White Metal Lantern\", 6, datetime(2023, 9, 1, 10, 0, 0), 3.39, 17850.0, \"United Kingdom\"),\n",
    "    (\"536366\", \"84406B\", \"Cream Cupid Hearts Coat Hanger\", 8, datetime(2023, 9, 1, 10, 5, 0), 2.75, 13047.0, \"United Kingdom\"),\n",
    "    (\"536367\", \"84029G\", \"Knitted Union Flag Hot Water Bottle\", 6, datetime(2023, 9, 1, 10, 10, 0), 3.39, 12583.0, \"United Kingdom\"),\n",
    "    (None, \"84029E\", \"Red Woolly Hottie White Heart.\", 6, datetime(2023, 9, 1, 10, 10, 0), 3.39, 12583.0, \"United Kingdom\"),\n",
    "    (\"536368\", None, \"White Hanging Heart T-Light Holder\", 6, datetime(2023, 9, 1, 10, 15, 0), 2.95, 15311.0, \"United Kingdom\"),\n",
    "    (\"536369\", \"82494L\", \"White Hanging Heart\", 5, datetime(2023, 9, 1, 10, 20, 0), 2.55, 17548.0, \"United Kingdom\"),\n",
    "    (\"536370\", \"85123B\", \"Assorted Colour Bird Ornament\", 32, datetime(2023, 9, 1, 10, 25, 0), 1.69, 13263.0, \"United Kingdom\"),\n",
    "    (\"536371\", \"85167B\", \"Cream Hanging Heart T-Light Holder\", 6, datetime(2023, 9, 1, 10, 30, 0), 2.75, 17850.0, \"United Kingdom\"),\n",
    "    (\"536372\", \"84030E\", \"Hand Warmer Union Jack\", 6, datetime(2023, 9, 1, 10, 35, 0), 3.39, 12583.0, \"United Kingdom\")\n",
    "]"
   ]
  },
  {
   "cell_type": "code",
   "execution_count": 22,
   "metadata": {},
   "outputs": [
    {
     "name": "stdout",
     "output_type": "stream",
     "text": [
      "+---------+---------+--------------------+--------+-------------------+---------+----------+--------------+\n",
      "|InvoiceNo|StockCode|         Description|Quantity|        InvoiceDate|UnitPrice|CustomerID|       Country|\n",
      "+---------+---------+--------------------+--------+-------------------+---------+----------+--------------+\n",
      "|   536365|   85123A| White Hanging Heart|       6|2023-09-01 10:00:00|     2.55|   17850.0|United Kingdom|\n",
      "|   536365|    71053| White Metal Lantern|       6|2023-09-01 10:00:00|     3.39|   17850.0|United Kingdom|\n",
      "|   536366|   84406B|Cream Cupid Heart...|       8|2023-09-01 10:05:00|     2.75|   13047.0|United Kingdom|\n",
      "|   536367|   84029G|Knitted Union Fla...|       6|2023-09-01 10:10:00|     3.39|   12583.0|United Kingdom|\n",
      "|     NULL|   84029E|Red Woolly Hottie...|       6|2023-09-01 10:10:00|     3.39|   12583.0|United Kingdom|\n",
      "|   536368|     NULL|White Hanging Hea...|       6|2023-09-01 10:15:00|     2.95|   15311.0|United Kingdom|\n",
      "|   536369|   82494L| White Hanging Heart|       5|2023-09-01 10:20:00|     2.55|   17548.0|United Kingdom|\n",
      "|   536370|   85123B|Assorted Colour B...|      32|2023-09-01 10:25:00|     1.69|   13263.0|United Kingdom|\n",
      "|   536371|   85167B|Cream Hanging Hea...|       6|2023-09-01 10:30:00|     2.75|   17850.0|United Kingdom|\n",
      "|   536372|   84030E|Hand Warmer Union...|       6|2023-09-01 10:35:00|     3.39|   12583.0|United Kingdom|\n",
      "+---------+---------+--------------------+--------+-------------------+---------+----------+--------------+\n",
      "\n"
     ]
    }
   ],
   "source": [
    "df = spark.createDataFrame(data, schema=schema)\n",
    "\n",
    "# Show the DataFrame\n",
    "df.show()"
   ]
  },
  {
   "cell_type": "markdown",
   "metadata": {},
   "source": []
  },
  {
   "cell_type": "code",
   "execution_count": 25,
   "metadata": {},
   "outputs": [
    {
     "name": "stdout",
     "output_type": "stream",
     "text": [
      "+---------+---------+--------------------+--------+-------------------+---------+----------+--------------+\n",
      "|InvoiceNo|StockCode|         Description|Quantity|        InvoiceDate|UnitPrice|CustomerID|       Country|\n",
      "+---------+---------+--------------------+--------+-------------------+---------+----------+--------------+\n",
      "|   536365|   85123A| White Hanging Heart|       6|2023-09-01 10:00:00|     2.55|   17850.0|United Kingdom|\n",
      "|   536365|    71053| White Metal Lantern|       6|2023-09-01 10:00:00|     3.39|   17850.0|United Kingdom|\n",
      "|   536366|   84406B|Cream Cupid Heart...|       8|2023-09-01 10:05:00|     2.75|   13047.0|United Kingdom|\n",
      "|   536367|   84029G|Knitted Union Fla...|       6|2023-09-01 10:10:00|     3.39|   12583.0|United Kingdom|\n",
      "|   536369|   82494L| White Hanging Heart|       5|2023-09-01 10:20:00|     2.55|   17548.0|United Kingdom|\n",
      "|   536370|   85123B|Assorted Colour B...|      32|2023-09-01 10:25:00|     1.69|   13263.0|United Kingdom|\n",
      "|   536371|   85167B|Cream Hanging Hea...|       6|2023-09-01 10:30:00|     2.75|   17850.0|United Kingdom|\n",
      "|   536372|   84030E|Hand Warmer Union...|       6|2023-09-01 10:35:00|     3.39|   12583.0|United Kingdom|\n",
      "+---------+---------+--------------------+--------+-------------------+---------+----------+--------------+\n",
      "\n"
     ]
    }
   ],
   "source": [
    "df.na.drop(\"any\").show()"
   ]
  },
  {
   "cell_type": "code",
   "execution_count": 31,
   "metadata": {},
   "outputs": [
    {
     "name": "stdout",
     "output_type": "stream",
     "text": [
      "+---------+---------+--------------------+--------+-------------------+---------+----------+--------------+\n",
      "|InvoiceNo|StockCode|         Description|Quantity|        InvoiceDate|UnitPrice|CustomerID|       Country|\n",
      "+---------+---------+--------------------+--------+-------------------+---------+----------+--------------+\n",
      "|   536365|   85123A| White Hanging Heart|       6|2023-09-01 10:00:00|     2.55|   17850.0|United Kingdom|\n",
      "|   536365|    71053| White Metal Lantern|       6|2023-09-01 10:00:00|     3.39|   17850.0|United Kingdom|\n",
      "|   536366|   84406B|Cream Cupid Heart...|       8|2023-09-01 10:05:00|     2.75|   13047.0|United Kingdom|\n",
      "|   536367|   84029G|Knitted Union Fla...|       6|2023-09-01 10:10:00|     3.39|   12583.0|United Kingdom|\n",
      "|   536369|   82494L| White Hanging Heart|       5|2023-09-01 10:20:00|     2.55|   17548.0|United Kingdom|\n",
      "|   536370|   85123B|Assorted Colour B...|      32|2023-09-01 10:25:00|     1.69|   13263.0|United Kingdom|\n",
      "|   536371|   85167B|Cream Hanging Hea...|       6|2023-09-01 10:30:00|     2.75|   17850.0|United Kingdom|\n",
      "|   536372|   84030E|Hand Warmer Union...|       6|2023-09-01 10:35:00|     3.39|   12583.0|United Kingdom|\n",
      "+---------+---------+--------------------+--------+-------------------+---------+----------+--------------+\n",
      "\n"
     ]
    }
   ],
   "source": [
    "from pyspark.sql.functions import col \n",
    "# df= df.na.drop()\n",
    "# df.show()"
   ]
  }
 ],
 "metadata": {
  "kernelspec": {
   "display_name": "base",
   "language": "python",
   "name": "python3"
  },
  "language_info": {
   "codemirror_mode": {
    "name": "ipython",
    "version": 3
   },
   "file_extension": ".py",
   "mimetype": "text/x-python",
   "name": "python",
   "nbconvert_exporter": "python",
   "pygments_lexer": "ipython3",
   "version": "3.9.18"
  }
 },
 "nbformat": 4,
 "nbformat_minor": 2
}
