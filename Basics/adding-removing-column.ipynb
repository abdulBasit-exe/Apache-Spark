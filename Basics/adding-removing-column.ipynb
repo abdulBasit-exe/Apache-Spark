{
 "cells": [
  {
   "cell_type": "code",
   "execution_count": 1,
   "metadata": {},
   "outputs": [],
   "source": [
    "from pyspark.sql import SparkSession"
   ]
  },
  {
   "cell_type": "code",
   "execution_count": 2,
   "metadata": {},
   "outputs": [
    {
     "name": "stderr",
     "output_type": "stream",
     "text": [
      "24/08/14 23:53:36 WARN Utils: Your hostname, abdul-basit-HP-ProBook-450-G8-Notebook-PC resolves to a loopback address: 127.0.1.1; using 10.11.16.109 instead (on interface wlp0s20f3)\n",
      "24/08/14 23:53:36 WARN Utils: Set SPARK_LOCAL_IP if you need to bind to another address\n",
      "Setting default log level to \"WARN\".\n",
      "To adjust logging level use sc.setLogLevel(newLevel). For SparkR, use setLogLevel(newLevel).\n",
      "24/08/14 23:53:37 WARN NativeCodeLoader: Unable to load native-hadoop library for your platform... using builtin-java classes where applicable\n"
     ]
    }
   ],
   "source": [
    "spark = SparkSession.builder.appName(\"Adding-Column\").getOrCreate()"
   ]
  },
  {
   "cell_type": "code",
   "execution_count": 3,
   "metadata": {},
   "outputs": [],
   "source": [
    "df = spark.read.csv(\"Titanic.csv\", inferSchema=True, header=True)"
   ]
  },
  {
   "cell_type": "markdown",
   "metadata": {},
   "source": [
    "#### Adding a column using withColumn"
   ]
  },
  {
   "cell_type": "code",
   "execution_count": 4,
   "metadata": {},
   "outputs": [
    {
     "name": "stdout",
     "output_type": "stream",
     "text": [
      "+---------------+------+----------------+------+---+-----+-----+--------------------+------+--------+--------+-------+\n",
      "|    PassengerId|Pclass|            Name|   Sex|Age|SibSp|Parch|              Ticket|  Fare|Embarked|Survived|IsAdult|\n",
      "+---------------+------+----------------+------+---+-----+-----+--------------------+------+--------+--------+-------+\n",
      "|              1|     3|    Allison Hill|  male| 17|    4|    2|43d75413-a939-4bd...|144.08|       Q|       1|     No|\n",
      "|              2|     1|     Noah Rhodes|  male| 60|    2|    2|6334fa2a-8b4b-47e...|249.04|       S|       0|    Yes|\n",
      "|              3|     3| Angie Henderson|  male| 64|    0|    0|61a66444-e2af-462...| 50.31|       Q|       1|    Yes|\n",
      "|              4|     3|   Daniel Wagner|  male| 35|    4|    0|0b6c03c8-721e-441...| 235.2|       C|       1|    Yes|\n",
      "|              5|     1| Cristian Santos|female| 70|    0|    3|436e3c49-770e-49d...|160.17|       C|       1|    Yes|\n",
      "|              6|     1| Connie Lawrence|  male| 30|    2|    3|907276ea-44c0-4a9...|412.97|       Q|       1|    Yes|\n",
      "|              7|     3| Abigail Shaffer|female| 71|    4|    0|b24beb96-c092-4b7...| 37.92|       C|       1|    Yes|\n",
      "|              8|     2|      Gina Moore|female| 74|    2|    0|ab0b4cc5-15f0-4a1...|215.12|       Q|       0|    Yes|\n",
      "|              9|     3| Gabrielle Davis|  male| 63|    4|    1|69fb0763-8a9c-46f...|234.63|       C|       1|    Yes|\n",
      "|             10|     3|      Ryan Munoz|female| 28|    2|    1|3a3e46b0-96f8-4ff...|365.25|       S|       1|    Yes|\n",
      "|             11|     3|  Monica Herrera|female| 60|    1|    0|6319629b-d73e-4bb...| 291.4|       C|       0|    Yes|\n",
      "|             12|     3|    Jamie Arnold|female| 79|    2|    1|f7336094-6b2b-48b...|336.93|       S|       0|    Yes|\n",
      "|             13|     1|    Lisa Hensley|female| 37|    1|    4|efb56207-ddec-440...|390.75|       S|       1|    Yes|\n",
      "|             14|     3|Michele Williams|  male| 22|    2|    3|3c53090e-e1b4-417...|432.48|       Q|       1|    Yes|\n",
      "|             15|     2|    Dylan Miller|female| 68|    4|    3|6511e61a-1436-45f...| 163.8|       C|       0|    Yes|\n",
      "|             16|     1|   Brian Ramirez|  male| 20|    4|    0|08e3f771-b6dc-4d0...|273.63|       Q|       1|    Yes|\n",
      "|             17|     2|      Holly Wood|female| 68|    4|    2|844e250b-e684-490...|421.65|       C|       0|    Yes|\n",
      "|             18|     2|    Derek Zuniga|female| 64|    3|    0|fb95d0fc-ad72-4d0...|494.83|       S|       0|    Yes|\n",
      "|             19|     2|    Lisa Jackson|  male| 17|    0|    1|f3025d16-1eca-4ae...|445.86|       S|       1|     No|\n",
      "|             20|     2|      Carla Gray|female| 12|    4|    2|f2f5b176-2c41-4bd...|192.02|       C|       0|     No|\n",
      "+---------------+------+----------------+------+---+-----+-----+--------------------+------+--------+--------+-------+\n",
      "only showing top 20 rows\n",
      "\n"
     ]
    }
   ],
   "source": [
    "from pyspark.sql.functions import when, expr\n",
    "from pyspark.sql.column import Column\n",
    "df = df.withColumn(\"IsAdult\", when(df[\"Age\"] >= 18, \"Yes\").otherwise(\"No\"))\n",
    "\n",
    "# Show the updated DataFrame\n",
    "df.show()"
   ]
  },
  {
   "cell_type": "markdown",
   "metadata": {},
   "source": [
    "#### Renaming a column"
   ]
  },
  {
   "cell_type": "code",
   "execution_count": 5,
   "metadata": {},
   "outputs": [
    {
     "name": "stdout",
     "output_type": "stream",
     "text": [
      "+---------------+------+----------------+------+---+-----+-----+--------------------+------+--------+--------+-------+\n",
      "|    PassengerId|Pclass|            Name|   Sex|Age|SibSp|Parch|          ticketFare|  Fare|Embarked|Survived|IsAdult|\n",
      "+---------------+------+----------------+------+---+-----+-----+--------------------+------+--------+--------+-------+\n",
      "|              1|     3|    Allison Hill|  male| 17|    4|    2|43d75413-a939-4bd...|144.08|       Q|       1|     No|\n",
      "|              2|     1|     Noah Rhodes|  male| 60|    2|    2|6334fa2a-8b4b-47e...|249.04|       S|       0|    Yes|\n",
      "|              3|     3| Angie Henderson|  male| 64|    0|    0|61a66444-e2af-462...| 50.31|       Q|       1|    Yes|\n",
      "|              4|     3|   Daniel Wagner|  male| 35|    4|    0|0b6c03c8-721e-441...| 235.2|       C|       1|    Yes|\n",
      "|              5|     1| Cristian Santos|female| 70|    0|    3|436e3c49-770e-49d...|160.17|       C|       1|    Yes|\n",
      "|              6|     1| Connie Lawrence|  male| 30|    2|    3|907276ea-44c0-4a9...|412.97|       Q|       1|    Yes|\n",
      "|              7|     3| Abigail Shaffer|female| 71|    4|    0|b24beb96-c092-4b7...| 37.92|       C|       1|    Yes|\n",
      "|              8|     2|      Gina Moore|female| 74|    2|    0|ab0b4cc5-15f0-4a1...|215.12|       Q|       0|    Yes|\n",
      "|              9|     3| Gabrielle Davis|  male| 63|    4|    1|69fb0763-8a9c-46f...|234.63|       C|       1|    Yes|\n",
      "|             10|     3|      Ryan Munoz|female| 28|    2|    1|3a3e46b0-96f8-4ff...|365.25|       S|       1|    Yes|\n",
      "|             11|     3|  Monica Herrera|female| 60|    1|    0|6319629b-d73e-4bb...| 291.4|       C|       0|    Yes|\n",
      "|             12|     3|    Jamie Arnold|female| 79|    2|    1|f7336094-6b2b-48b...|336.93|       S|       0|    Yes|\n",
      "|             13|     1|    Lisa Hensley|female| 37|    1|    4|efb56207-ddec-440...|390.75|       S|       1|    Yes|\n",
      "|             14|     3|Michele Williams|  male| 22|    2|    3|3c53090e-e1b4-417...|432.48|       Q|       1|    Yes|\n",
      "|             15|     2|    Dylan Miller|female| 68|    4|    3|6511e61a-1436-45f...| 163.8|       C|       0|    Yes|\n",
      "|             16|     1|   Brian Ramirez|  male| 20|    4|    0|08e3f771-b6dc-4d0...|273.63|       Q|       1|    Yes|\n",
      "|             17|     2|      Holly Wood|female| 68|    4|    2|844e250b-e684-490...|421.65|       C|       0|    Yes|\n",
      "|             18|     2|    Derek Zuniga|female| 64|    3|    0|fb95d0fc-ad72-4d0...|494.83|       S|       0|    Yes|\n",
      "|             19|     2|    Lisa Jackson|  male| 17|    0|    1|f3025d16-1eca-4ae...|445.86|       S|       1|     No|\n",
      "|             20|     2|      Carla Gray|female| 12|    4|    2|f2f5b176-2c41-4bd...|192.02|       C|       0|     No|\n",
      "+---------------+------+----------------+------+---+-----+-----+--------------------+------+--------+--------+-------+\n",
      "only showing top 20 rows\n",
      "\n"
     ]
    }
   ],
   "source": [
    "df = df.withColumnRenamed(\"Ticket\", \"ticketFare\")\n",
    "df.show()"
   ]
  },
  {
   "cell_type": "markdown",
   "metadata": {},
   "source": [
    "#### Adding a unneccessary column "
   ]
  },
  {
   "cell_type": "code",
   "execution_count": 6,
   "metadata": {},
   "outputs": [],
   "source": [
    "from pyspark.sql.functions import lit\n",
    "df = df.withColumn(\"NewCol\",lit(1))\n"
   ]
  },
  {
   "cell_type": "code",
   "execution_count": 7,
   "metadata": {},
   "outputs": [
    {
     "name": "stdout",
     "output_type": "stream",
     "text": [
      "+---------------+------+----------------+------+---+-----+-----+--------------------+------+--------+--------+-------+------+\n",
      "|    PassengerId|Pclass|            Name|   Sex|Age|SibSp|Parch|          ticketFare|  Fare|Embarked|Survived|IsAdult|NewCol|\n",
      "+---------------+------+----------------+------+---+-----+-----+--------------------+------+--------+--------+-------+------+\n",
      "|              1|     3|    Allison Hill|  male| 17|    4|    2|43d75413-a939-4bd...|144.08|       Q|       1|     No|     1|\n",
      "|              2|     1|     Noah Rhodes|  male| 60|    2|    2|6334fa2a-8b4b-47e...|249.04|       S|       0|    Yes|     1|\n",
      "|              3|     3| Angie Henderson|  male| 64|    0|    0|61a66444-e2af-462...| 50.31|       Q|       1|    Yes|     1|\n",
      "|              4|     3|   Daniel Wagner|  male| 35|    4|    0|0b6c03c8-721e-441...| 235.2|       C|       1|    Yes|     1|\n",
      "|              5|     1| Cristian Santos|female| 70|    0|    3|436e3c49-770e-49d...|160.17|       C|       1|    Yes|     1|\n",
      "|              6|     1| Connie Lawrence|  male| 30|    2|    3|907276ea-44c0-4a9...|412.97|       Q|       1|    Yes|     1|\n",
      "|              7|     3| Abigail Shaffer|female| 71|    4|    0|b24beb96-c092-4b7...| 37.92|       C|       1|    Yes|     1|\n",
      "|              8|     2|      Gina Moore|female| 74|    2|    0|ab0b4cc5-15f0-4a1...|215.12|       Q|       0|    Yes|     1|\n",
      "|              9|     3| Gabrielle Davis|  male| 63|    4|    1|69fb0763-8a9c-46f...|234.63|       C|       1|    Yes|     1|\n",
      "|             10|     3|      Ryan Munoz|female| 28|    2|    1|3a3e46b0-96f8-4ff...|365.25|       S|       1|    Yes|     1|\n",
      "|             11|     3|  Monica Herrera|female| 60|    1|    0|6319629b-d73e-4bb...| 291.4|       C|       0|    Yes|     1|\n",
      "|             12|     3|    Jamie Arnold|female| 79|    2|    1|f7336094-6b2b-48b...|336.93|       S|       0|    Yes|     1|\n",
      "|             13|     1|    Lisa Hensley|female| 37|    1|    4|efb56207-ddec-440...|390.75|       S|       1|    Yes|     1|\n",
      "|             14|     3|Michele Williams|  male| 22|    2|    3|3c53090e-e1b4-417...|432.48|       Q|       1|    Yes|     1|\n",
      "|             15|     2|    Dylan Miller|female| 68|    4|    3|6511e61a-1436-45f...| 163.8|       C|       0|    Yes|     1|\n",
      "|             16|     1|   Brian Ramirez|  male| 20|    4|    0|08e3f771-b6dc-4d0...|273.63|       Q|       1|    Yes|     1|\n",
      "|             17|     2|      Holly Wood|female| 68|    4|    2|844e250b-e684-490...|421.65|       C|       0|    Yes|     1|\n",
      "|             18|     2|    Derek Zuniga|female| 64|    3|    0|fb95d0fc-ad72-4d0...|494.83|       S|       0|    Yes|     1|\n",
      "|             19|     2|    Lisa Jackson|  male| 17|    0|    1|f3025d16-1eca-4ae...|445.86|       S|       1|     No|     1|\n",
      "|             20|     2|      Carla Gray|female| 12|    4|    2|f2f5b176-2c41-4bd...|192.02|       C|       0|     No|     1|\n",
      "+---------------+------+----------------+------+---+-----+-----+--------------------+------+--------+--------+-------+------+\n",
      "only showing top 20 rows\n",
      "\n"
     ]
    }
   ],
   "source": [
    "df.show()"
   ]
  },
  {
   "cell_type": "markdown",
   "metadata": {},
   "source": [
    "#### Removing a column"
   ]
  },
  {
   "cell_type": "code",
   "execution_count": 8,
   "metadata": {},
   "outputs": [
    {
     "name": "stdout",
     "output_type": "stream",
     "text": [
      "+---------------+------+----------------+------+---+-----+-----+--------------------+------+--------+--------+-------+\n",
      "|    PassengerId|Pclass|            Name|   Sex|Age|SibSp|Parch|          ticketFare|  Fare|Embarked|Survived|IsAdult|\n",
      "+---------------+------+----------------+------+---+-----+-----+--------------------+------+--------+--------+-------+\n",
      "|              1|     3|    Allison Hill|  male| 17|    4|    2|43d75413-a939-4bd...|144.08|       Q|       1|     No|\n",
      "|              2|     1|     Noah Rhodes|  male| 60|    2|    2|6334fa2a-8b4b-47e...|249.04|       S|       0|    Yes|\n",
      "|              3|     3| Angie Henderson|  male| 64|    0|    0|61a66444-e2af-462...| 50.31|       Q|       1|    Yes|\n",
      "|              4|     3|   Daniel Wagner|  male| 35|    4|    0|0b6c03c8-721e-441...| 235.2|       C|       1|    Yes|\n",
      "|              5|     1| Cristian Santos|female| 70|    0|    3|436e3c49-770e-49d...|160.17|       C|       1|    Yes|\n",
      "|              6|     1| Connie Lawrence|  male| 30|    2|    3|907276ea-44c0-4a9...|412.97|       Q|       1|    Yes|\n",
      "|              7|     3| Abigail Shaffer|female| 71|    4|    0|b24beb96-c092-4b7...| 37.92|       C|       1|    Yes|\n",
      "|              8|     2|      Gina Moore|female| 74|    2|    0|ab0b4cc5-15f0-4a1...|215.12|       Q|       0|    Yes|\n",
      "|              9|     3| Gabrielle Davis|  male| 63|    4|    1|69fb0763-8a9c-46f...|234.63|       C|       1|    Yes|\n",
      "|             10|     3|      Ryan Munoz|female| 28|    2|    1|3a3e46b0-96f8-4ff...|365.25|       S|       1|    Yes|\n",
      "|             11|     3|  Monica Herrera|female| 60|    1|    0|6319629b-d73e-4bb...| 291.4|       C|       0|    Yes|\n",
      "|             12|     3|    Jamie Arnold|female| 79|    2|    1|f7336094-6b2b-48b...|336.93|       S|       0|    Yes|\n",
      "|             13|     1|    Lisa Hensley|female| 37|    1|    4|efb56207-ddec-440...|390.75|       S|       1|    Yes|\n",
      "|             14|     3|Michele Williams|  male| 22|    2|    3|3c53090e-e1b4-417...|432.48|       Q|       1|    Yes|\n",
      "|             15|     2|    Dylan Miller|female| 68|    4|    3|6511e61a-1436-45f...| 163.8|       C|       0|    Yes|\n",
      "|             16|     1|   Brian Ramirez|  male| 20|    4|    0|08e3f771-b6dc-4d0...|273.63|       Q|       1|    Yes|\n",
      "|             17|     2|      Holly Wood|female| 68|    4|    2|844e250b-e684-490...|421.65|       C|       0|    Yes|\n",
      "|             18|     2|    Derek Zuniga|female| 64|    3|    0|fb95d0fc-ad72-4d0...|494.83|       S|       0|    Yes|\n",
      "|             19|     2|    Lisa Jackson|  male| 17|    0|    1|f3025d16-1eca-4ae...|445.86|       S|       1|     No|\n",
      "|             20|     2|      Carla Gray|female| 12|    4|    2|f2f5b176-2c41-4bd...|192.02|       C|       0|     No|\n",
      "+---------------+------+----------------+------+---+-----+-----+--------------------+------+--------+--------+-------+\n",
      "only showing top 20 rows\n",
      "\n"
     ]
    }
   ],
   "source": [
    "df = df.drop(\"NewCol\")\n",
    "df.show()"
   ]
  }
 ],
 "metadata": {
  "kernelspec": {
   "display_name": "spark_env",
   "language": "python",
   "name": "python3"
  },
  "language_info": {
   "codemirror_mode": {
    "name": "ipython",
    "version": 3
   },
   "file_extension": ".py",
   "mimetype": "text/x-python",
   "name": "python",
   "nbconvert_exporter": "python",
   "pygments_lexer": "ipython3",
   "version": "3.9.18"
  }
 },
 "nbformat": 4,
 "nbformat_minor": 2
}
