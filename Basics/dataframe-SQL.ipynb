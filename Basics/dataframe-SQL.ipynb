{
 "cells": [
  {
   "cell_type": "code",
   "execution_count": 1,
   "metadata": {},
   "outputs": [],
   "source": [
    "from pyspark.sql import SparkSession"
   ]
  },
  {
   "cell_type": "code",
   "execution_count": 2,
   "metadata": {},
   "outputs": [
    {
     "name": "stderr",
     "output_type": "stream",
     "text": [
      "24/08/12 21:48:49 WARN Utils: Your hostname, abdul-basit-HP-ProBook-450-G8-Notebook-PC resolves to a loopback address: 127.0.1.1; using 10.11.16.43 instead (on interface wlp0s20f3)\n",
      "24/08/12 21:48:49 WARN Utils: Set SPARK_LOCAL_IP if you need to bind to another address\n",
      "Setting default log level to \"WARN\".\n",
      "To adjust logging level use sc.setLogLevel(newLevel). For SparkR, use setLogLevel(newLevel).\n",
      "24/08/12 21:48:51 WARN NativeCodeLoader: Unable to load native-hadoop library for your platform... using builtin-java classes where applicable\n"
     ]
    }
   ],
   "source": [
    "spark = SparkSession.builder.appName(\"Dataframe-vs-SQL\").getOrCreate()"
   ]
  },
  {
   "cell_type": "code",
   "execution_count": 3,
   "metadata": {},
   "outputs": [
    {
     "name": "stderr",
     "output_type": "stream",
     "text": [
      "                                                                                \r"
     ]
    },
    {
     "name": "stdout",
     "output_type": "stream",
     "text": [
      "+-----------+------+------------+----+---+-----+-----+--------------------+------+--------+--------+\n",
      "|PassengerId|Pclass|        Name| Sex|Age|SibSp|Parch|              Ticket|  Fare|Embarked|Survived|\n",
      "+-----------+------+------------+----+---+-----+-----+--------------------+------+--------+--------+\n",
      "|          1|     3|Allison Hill|male| 17|    4|    2|43d75413-a939-4bd...|144.08|       Q|       1|\n",
      "|          2|     1| Noah Rhodes|male| 60|    2|    2|6334fa2a-8b4b-47e...|249.04|       S|       0|\n",
      "+-----------+------+------------+----+---+-----+-----+--------------------+------+--------+--------+\n",
      "only showing top 2 rows\n",
      "\n"
     ]
    }
   ],
   "source": [
    "spark_df = spark.read.csv(\"Titanic.csv\", inferSchema=True, header=True)\n",
    "spark_df.show(2)"
   ]
  },
  {
   "cell_type": "code",
   "execution_count": 20,
   "metadata": {},
   "outputs": [
    {
     "name": "stdout",
     "output_type": "stream",
     "text": [
      "+-----------+------+------------+----+---+-----+-----+--------------------+------+--------+--------+\n",
      "|PassengerId|Pclass|        Name| Sex|Age|SibSp|Parch|              Ticket|  Fare|Embarked|Survived|\n",
      "+-----------+------+------------+----+---+-----+-----+--------------------+------+--------+--------+\n",
      "|          1|     3|Allison Hill|male| 17|    4|    2|43d75413-a939-4bd...|144.08|       Q|       1|\n",
      "|          2|     1| Noah Rhodes|male| 60|    2|    2|6334fa2a-8b4b-47e...|249.04|       S|       0|\n",
      "+-----------+------+------------+----+---+-----+-----+--------------------+------+--------+--------+\n",
      "only showing top 2 rows\n",
      "\n"
     ]
    }
   ],
   "source": [
    "spark_df.createOrReplaceTempView(\"titanic\")\n",
    "sql_df = spark.sql(\"select * from titanic\")\n",
    "sql_df.show(2)\n"
   ]
  },
  {
   "cell_type": "code",
   "execution_count": 45,
   "metadata": {},
   "outputs": [],
   "source": [
    "from pyspark.sql import functions as F\n",
    "\n",
    "spark_df_grpBy = spark_df.groupBy(\"Pclass\").count()"
   ]
  },
  {
   "cell_type": "code",
   "execution_count": 46,
   "metadata": {},
   "outputs": [],
   "source": [
    "sql_df_grpBy = spark.sql(\"\"\"\n",
    "                        SELECT Pclass, COUNT(*) as count\n",
    "                         FROM titanic\n",
    "                         GROUP BY Pclass\n",
    "                         \"\"\")"
   ]
  },
  {
   "cell_type": "code",
   "execution_count": 50,
   "metadata": {},
   "outputs": [
    {
     "name": "stdout",
     "output_type": "stream",
     "text": [
      "== Physical Plan ==\n",
      "AdaptiveSparkPlan isFinalPlan=false\n",
      "+- HashAggregate(keys=[Pclass#18], functions=[count(1)])\n",
      "   +- Exchange hashpartitioning(Pclass#18, 200), ENSURE_REQUIREMENTS, [plan_id=192]\n",
      "      +- HashAggregate(keys=[Pclass#18], functions=[partial_count(1)])\n",
      "         +- FileScan csv [Pclass#18] Batched: false, DataFilters: [], Format: CSV, Location: InMemoryFileIndex(1 paths)[file:/home/abdul-basit/Documents/Data_Engineering/Spark/Titanic.csv], PartitionFilters: [], PushedFilters: [], ReadSchema: struct<Pclass:int>\n",
      "\n",
      "\n",
      "== Physical Plan ==\n",
      "AdaptiveSparkPlan isFinalPlan=false\n",
      "+- HashAggregate(keys=[Pclass#18], functions=[count(1)])\n",
      "   +- Exchange hashpartitioning(Pclass#18, 200), ENSURE_REQUIREMENTS, [plan_id=205]\n",
      "      +- HashAggregate(keys=[Pclass#18], functions=[partial_count(1)])\n",
      "         +- FileScan csv [Pclass#18] Batched: false, DataFilters: [], Format: CSV, Location: InMemoryFileIndex(1 paths)[file:/home/abdul-basit/Documents/Data_Engineering/Spark/Titanic.csv], PartitionFilters: [], PushedFilters: [], ReadSchema: struct<Pclass:int>\n",
      "\n",
      "\n"
     ]
    }
   ],
   "source": [
    "spark_df_grpBy.explain()\n",
    "sql_df_grpBy.explain()"
   ]
  },
  {
   "cell_type": "code",
   "execution_count": 70,
   "metadata": {},
   "outputs": [
    {
     "name": "stdout",
     "output_type": "stream",
     "text": [
      "+-----------------+------+\n",
      "|             Name|  Fare|\n",
      "+-----------------+------+\n",
      "|Christina Walters|499.78|\n",
      "+-----------------+------+\n",
      "\n",
      "+-----------------+------+\n",
      "|             Name|  Fare|\n",
      "+-----------------+------+\n",
      "|Christina Walters|499.78|\n",
      "+-----------------+------+\n",
      "\n"
     ]
    }
   ],
   "source": [
    "from pyspark.sql.functions import max\n",
    "max_fare = spark_df.agg(max(\"Fare\").alias(\"max_fare\")).collect()[0][\"max_fare\"]\n",
    "\n",
    "# Filter the original DataFrame to get the row(s) with the maximum fare\n",
    "max_df = spark_df.filter(spark_df[\"Fare\"] == max_fare).select(\"Name\", \"Fare\")\n",
    "max_df.show()\n",
    "\n",
    "\n",
    "max_df_sql = spark.sql(\"\"\"\n",
    "SELECT Name, Fare\n",
    "FROM titanic\n",
    "WHERE Fare = (SELECT MAX(Fare) FROM titanic)\n",
    "\"\"\")\n",
    "\n",
    "# max_df.show()\n",
    "max_df_sql.show()\n",
    "\n"
   ]
  }
 ],
 "metadata": {
  "kernelspec": {
   "display_name": "spark_env",
   "language": "python",
   "name": "python3"
  },
  "language_info": {
   "codemirror_mode": {
    "name": "ipython",
    "version": 3
   },
   "file_extension": ".py",
   "mimetype": "text/x-python",
   "name": "python",
   "nbconvert_exporter": "python",
   "pygments_lexer": "ipython3",
   "version": "3.9.18"
  }
 },
 "nbformat": 4,
 "nbformat_minor": 2
}
