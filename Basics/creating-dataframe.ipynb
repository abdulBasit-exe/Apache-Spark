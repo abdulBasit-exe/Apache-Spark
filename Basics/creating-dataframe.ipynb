{
 "cells": [
  {
   "cell_type": "code",
   "execution_count": 1,
   "metadata": {},
   "outputs": [],
   "source": [
    "from pyspark.sql import SparkSession"
   ]
  },
  {
   "cell_type": "code",
   "execution_count": 4,
   "metadata": {},
   "outputs": [],
   "source": [
    "spark = SparkSession.builder.appName(\"Creating-Dataframe\").getOrCreate()"
   ]
  },
  {
   "cell_type": "code",
   "execution_count": 7,
   "metadata": {},
   "outputs": [],
   "source": [
    "from datetime import datetime, date\n",
    "from pyspark.sql import Row"
   ]
  },
  {
   "cell_type": "code",
   "execution_count": 17,
   "metadata": {},
   "outputs": [
    {
     "data": {
      "text/plain": [
       "DataFrame[id: bigint, name: string, date: date, dateTime: timestamp]"
      ]
     },
     "execution_count": 17,
     "metadata": {},
     "output_type": "execute_result"
    }
   ],
   "source": [
    "df = spark.createDataFrame([\n",
    "    Row(1,'Abdul Basit', date(2003,9, 14), datetime(2003, 9,14, 12, 2)),\n",
    "    Row(2,'Sumair Ali', date(2004, 2, 1), datetime(2004, 1, 2, 9, 5)),\n",
    "    Row(3,'Sachal Sahito', date(2001, 3, 1), datetime(2001, 1, 3, 2, 0))\n",
    "], schema= ['id', 'name','date', 'dateTime'])\n",
    "df\n"
   ]
  },
  {
   "cell_type": "code",
   "execution_count": 19,
   "metadata": {},
   "outputs": [
    {
     "name": "stdout",
     "output_type": "stream",
     "text": [
      "+---+-------------+----------+-------------------+\n",
      "| id|         name|      date|           dateTime|\n",
      "+---+-------------+----------+-------------------+\n",
      "|  1|  Abdul Basit|2003-09-14|2003-09-14 12:02:00|\n",
      "|  2|   Sumair Ali|2004-02-01|2004-01-02 09:05:00|\n",
      "|  3|Sachal Sahito|2001-03-01|2001-01-03 02:00:00|\n",
      "+---+-------------+----------+-------------------+\n",
      "\n"
     ]
    }
   ],
   "source": [
    "df.show()"
   ]
  },
  {
   "cell_type": "code",
   "execution_count": 21,
   "metadata": {},
   "outputs": [
    {
     "data": {
      "text/plain": [
       "['id', 'name', 'date', 'dateTime']"
      ]
     },
     "execution_count": 21,
     "metadata": {},
     "output_type": "execute_result"
    }
   ],
   "source": [
    "df.columns"
   ]
  },
  {
   "cell_type": "code",
   "execution_count": 24,
   "metadata": {},
   "outputs": [
    {
     "name": "stdout",
     "output_type": "stream",
     "text": [
      "root\n",
      " |-- id: long (nullable = true)\n",
      " |-- name: string (nullable = true)\n",
      " |-- date: date (nullable = true)\n",
      " |-- dateTime: timestamp (nullable = true)\n",
      "\n"
     ]
    }
   ],
   "source": [
    "df.printSchema()"
   ]
  },
  {
   "cell_type": "code",
   "execution_count": 26,
   "metadata": {},
   "outputs": [
    {
     "name": "stdout",
     "output_type": "stream",
     "text": [
      "-RECORD 0-----------------------\n",
      " id       | 1                   \n",
      " name     | Abdul Basit         \n",
      " date     | 2003-09-14          \n",
      " dateTime | 2003-09-14 12:02:00 \n",
      "-RECORD 1-----------------------\n",
      " id       | 2                   \n",
      " name     | Sumair Ali          \n",
      " date     | 2004-02-01          \n",
      " dateTime | 2004-01-02 09:05:00 \n",
      "-RECORD 2-----------------------\n",
      " id       | 3                   \n",
      " name     | Sachal Sahito       \n",
      " date     | 2001-03-01          \n",
      " dateTime | 2001-01-03 02:00:00 \n",
      "\n"
     ]
    }
   ],
   "source": [
    "df.show(3,vertical=True)"
   ]
  },
  {
   "cell_type": "code",
   "execution_count": 30,
   "metadata": {},
   "outputs": [
    {
     "name": "stdout",
     "output_type": "stream",
     "text": [
      "+---+-----------+----------+-------------------+\n",
      "| id|       name|      date|           dateTime|\n",
      "+---+-----------+----------+-------------------+\n",
      "|  1|Abdul Basit|2003-09-14|2003-09-14 12:02:00|\n",
      "+---+-----------+----------+-------------------+\n",
      "\n"
     ]
    }
   ],
   "source": [
    "first_row = df.filter(df.id==1)\n",
    "first_row.show()"
   ]
  },
  {
   "cell_type": "code",
   "execution_count": 35,
   "metadata": {},
   "outputs": [
    {
     "name": "stdout",
     "output_type": "stream",
     "text": [
      "+---+-------------+----------+-------------------+\n",
      "| id|         name|      date|           dateTime|\n",
      "+---+-------------+----------+-------------------+\n",
      "|  1|  Abdul Basit|2003-09-14|2003-09-14 12:02:00|\n",
      "|  2|   Sumair Ali|2004-02-01|2004-01-02 09:05:00|\n",
      "|  3|Sachal Sahito|2001-03-01|2001-01-03 02:00:00|\n",
      "+---+-------------+----------+-------------------+\n",
      "\n"
     ]
    }
   ],
   "source": [
    "df.createOrReplaceTempView(\"friends\")\n",
    "sqlDF= spark.sql(\"SELECT * FROM friends\")\n",
    "sqlDF.show()"
   ]
  },
  {
   "cell_type": "code",
   "execution_count": null,
   "metadata": {},
   "outputs": [],
   "source": []
  }
 ],
 "metadata": {
  "kernelspec": {
   "display_name": "spark_env",
   "language": "python",
   "name": "python3"
  },
  "language_info": {
   "codemirror_mode": {
    "name": "ipython",
    "version": 3
   },
   "file_extension": ".py",
   "mimetype": "text/x-python",
   "name": "python",
   "nbconvert_exporter": "python",
   "pygments_lexer": "ipython3",
   "version": "3.9.18"
  }
 },
 "nbformat": 4,
 "nbformat_minor": 2
}
