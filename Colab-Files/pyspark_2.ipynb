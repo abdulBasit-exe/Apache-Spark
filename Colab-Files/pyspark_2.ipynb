{
  "nbformat": 4,
  "nbformat_minor": 0,
  "metadata": {
    "colab": {
      "provenance": []
    },
    "kernelspec": {
      "name": "python3",
      "display_name": "Python 3"
    },
    "language_info": {
      "name": "python"
    }
  },
  "cells": [
    {
      "cell_type": "code",
      "execution_count": null,
      "metadata": {
        "colab": {
          "base_uri": "https://localhost:8080/"
        },
        "id": "dv17VV_cjz9O",
        "outputId": "db1c55dd-fc0a-443a-b364-12db9d6fc681"
      },
      "outputs": [
        {
          "output_type": "stream",
          "name": "stdout",
          "text": [
            "Collecting pyspark\n",
            "  Downloading pyspark-3.5.1.tar.gz (317.0 MB)\n",
            "\u001b[2K     \u001b[90m━━━━━━━━━━━━━━━━━━━━━━━━━━━━━━━━━━━━━━━━\u001b[0m \u001b[32m317.0/317.0 MB\u001b[0m \u001b[31m1.9 MB/s\u001b[0m eta \u001b[36m0:00:00\u001b[0m\n",
            "\u001b[?25h  Preparing metadata (setup.py) ... \u001b[?25l\u001b[?25hdone\n",
            "Requirement already satisfied: py4j==0.10.9.7 in /usr/local/lib/python3.10/dist-packages (from pyspark) (0.10.9.7)\n",
            "Building wheels for collected packages: pyspark\n",
            "  Building wheel for pyspark (setup.py) ... \u001b[?25l\u001b[?25hdone\n",
            "  Created wheel for pyspark: filename=pyspark-3.5.1-py2.py3-none-any.whl size=317488491 sha256=4dec1c64d8f7b49186897290a360d8e1e7db29ad8d1b80c4ece500c1e17190b8\n",
            "  Stored in directory: /root/.cache/pip/wheels/80/1d/60/2c256ed38dddce2fdd93be545214a63e02fbd8d74fb0b7f3a6\n",
            "Successfully built pyspark\n",
            "Installing collected packages: pyspark\n",
            "Successfully installed pyspark-3.5.1\n"
          ]
        }
      ],
      "source": [
        "!pip install pyspark"
      ]
    },
    {
      "cell_type": "code",
      "source": [
        "from pyspark.sql import SparkSession\n",
        "spark = SparkSession.builder.appName('MoviesDataset-Practice').getOrCreate()\n",
        "spark"
      ],
      "metadata": {
        "colab": {
          "base_uri": "https://localhost:8080/",
          "height": 219
        },
        "id": "1ACXtLR5kOC7",
        "outputId": "0865077b-6b09-4f01-fe02-52ec6f4dac41"
      },
      "execution_count": null,
      "outputs": [
        {
          "output_type": "execute_result",
          "data": {
            "text/plain": [
              "<pyspark.sql.session.SparkSession at 0x7d870b50d7e0>"
            ],
            "text/html": [
              "\n",
              "            <div>\n",
              "                <p><b>SparkSession - in-memory</b></p>\n",
              "                \n",
              "        <div>\n",
              "            <p><b>SparkContext</b></p>\n",
              "\n",
              "            <p><a href=\"http://ed960f8d9ba9:4040\">Spark UI</a></p>\n",
              "\n",
              "            <dl>\n",
              "              <dt>Version</dt>\n",
              "                <dd><code>v3.5.1</code></dd>\n",
              "              <dt>Master</dt>\n",
              "                <dd><code>local[*]</code></dd>\n",
              "              <dt>AppName</dt>\n",
              "                <dd><code>MoviesDataset-Practice</code></dd>\n",
              "            </dl>\n",
              "        </div>\n",
              "        \n",
              "            </div>\n",
              "        "
            ]
          },
          "metadata": {},
          "execution_count": 3
        }
      ]
    },
    {
      "cell_type": "code",
      "source": [
        "df=spark.read.option('header','true').csv('/IMDB_Top250_Tvshows.csv')"
      ],
      "metadata": {
        "id": "Mv7cOt_UlIBe"
      },
      "execution_count": null,
      "outputs": []
    },
    {
      "cell_type": "code",
      "source": [
        "df.show()"
      ],
      "metadata": {
        "colab": {
          "base_uri": "https://localhost:8080/"
        },
        "id": "AXjOhs8glnGg",
        "outputId": "e3d207a9-8468-4d93-c2e1-1546124b7bd8"
      },
      "execution_count": null,
      "outputs": [
        {
          "output_type": "stream",
          "name": "stdout",
          "text": [
            "+--------------------+---------+--------------+---+------+----------+--------------+\n",
            "|              Titile|     Year|Total_episodes|Age|Rating|Vote_count|      Category|\n",
            "+--------------------+---------+--------------+---+------+----------+--------------+\n",
            "|     1. Breaking Bad|2008�2013|        62 eps| 18|   9.5|    (2.2M)|     TV Series|\n",
            "|  2. Planet Earth II|     2016|         6 eps| PG|   9.5|    (159K)|TV Mini Series|\n",
            "|     3. Planet Earth|     2006|        11 eps| PG|   9.4|    (221K)|TV Mini Series|\n",
            "| 4. Band of Brothers|     2001|        10 eps| 15|   9.4|    (533K)|TV Mini Series|\n",
            "|        5. Chernobyl|     2019|         5 eps| 15|   9.3|    (876K)|TV Mini Series|\n",
            "|         6. The Wire|2002�2008|        60 eps| 18|   9.3|    (381K)|     TV Series|\n",
            "|7. Avatar: The La...|2005�2008|        62 eps| PG|   9.3|    (378K)|     TV Series|\n",
            "|   8. Blue Planet II|     2017|         7 eps|  U|   9.3|     (47K)|TV Mini Series|\n",
            "|     9. The Sopranos|1999�2007|        86 eps| 18|   9.2|    (478K)|     TV Series|\n",
            "|          10. Cosmos|     2014|        13 eps| PG|   9.2|    (130K)|TV Mini Series|\n",
            "|          11. Cosmos|     1980|        13 eps|  U|   9.3|     (45K)|TV Mini Series|\n",
            "|      12. Our Planet|2019�2023|        12 eps|  U|   9.3|     (52K)|     TV Series|\n",
            "| 13. Game of Thrones|2011�2019|        74 eps| 18|   9.2|    (2.3M)|     TV Series|\n",
            "|14. The World at War|1973�1974|        26 eps| 15|   9.2|     (30K)|     TV Series|\n",
            "|           15. Bluey|    2018�|       194 eps|  U|   9.4|     (30K)|     TV Series|\n",
            "|16. Fullmetal Alc...|2009�2010|        68 eps| PG|   9.1|    (200K)|     TV Series|\n",
            "|  17. Rick and Morty|     2013|        74 eps| 15|   9.1|    (608K)|     TV Series|\n",
            "|            18. Life|     2009|        11 eps|  E|   9.1|     (43K)|TV Mini Series|\n",
            "|  19. The Last Dance|     2020|        10 eps| 15|   9.1|    (154K)|TV Mini Series|\n",
            "|20. The Twilight ...|1959�1964|       156 eps| 12|   9.1|     (94K)|     TV Series|\n",
            "+--------------------+---------+--------------+---+------+----------+--------------+\n",
            "only showing top 20 rows\n",
            "\n"
          ]
        }
      ]
    },
    {
      "cell_type": "code",
      "source": [
        "from pyspark.sql.functions import regexp_replace\n",
        "df_cleaned = df.withColumn(\"cleaned_name\", regexp_replace(df['Titile'], r\"^\\d+\\.\\s+\", \"\"))"
      ],
      "metadata": {
        "id": "IJeHoLouoOKe"
      },
      "execution_count": null,
      "outputs": []
    },
    {
      "cell_type": "code",
      "source": [
        "df_cleaned.show()"
      ],
      "metadata": {
        "colab": {
          "base_uri": "https://localhost:8080/"
        },
        "id": "jOnvSFBVqxz9",
        "outputId": "f2daa965-2334-47e0-8559-3f5fdb3e9f0c"
      },
      "execution_count": null,
      "outputs": [
        {
          "output_type": "stream",
          "name": "stdout",
          "text": [
            "+--------------------+---------+--------------+---+------+----------+--------------+--------------------+\n",
            "|              Titile|     Year|Total_episodes|Age|Rating|Vote_count|      Category|        cleaned_name|\n",
            "+--------------------+---------+--------------+---+------+----------+--------------+--------------------+\n",
            "|     1. Breaking Bad|2008�2013|        62 eps| 18|   9.5|    (2.2M)|     TV Series|        Breaking Bad|\n",
            "|  2. Planet Earth II|     2016|         6 eps| PG|   9.5|    (159K)|TV Mini Series|     Planet Earth II|\n",
            "|     3. Planet Earth|     2006|        11 eps| PG|   9.4|    (221K)|TV Mini Series|        Planet Earth|\n",
            "| 4. Band of Brothers|     2001|        10 eps| 15|   9.4|    (533K)|TV Mini Series|    Band of Brothers|\n",
            "|        5. Chernobyl|     2019|         5 eps| 15|   9.3|    (876K)|TV Mini Series|           Chernobyl|\n",
            "|         6. The Wire|2002�2008|        60 eps| 18|   9.3|    (381K)|     TV Series|            The Wire|\n",
            "|7. Avatar: The La...|2005�2008|        62 eps| PG|   9.3|    (378K)|     TV Series|Avatar: The Last ...|\n",
            "|   8. Blue Planet II|     2017|         7 eps|  U|   9.3|     (47K)|TV Mini Series|      Blue Planet II|\n",
            "|     9. The Sopranos|1999�2007|        86 eps| 18|   9.2|    (478K)|     TV Series|        The Sopranos|\n",
            "|          10. Cosmos|     2014|        13 eps| PG|   9.2|    (130K)|TV Mini Series|              Cosmos|\n",
            "|          11. Cosmos|     1980|        13 eps|  U|   9.3|     (45K)|TV Mini Series|              Cosmos|\n",
            "|      12. Our Planet|2019�2023|        12 eps|  U|   9.3|     (52K)|     TV Series|          Our Planet|\n",
            "| 13. Game of Thrones|2011�2019|        74 eps| 18|   9.2|    (2.3M)|     TV Series|     Game of Thrones|\n",
            "|14. The World at War|1973�1974|        26 eps| 15|   9.2|     (30K)|     TV Series|    The World at War|\n",
            "|           15. Bluey|    2018�|       194 eps|  U|   9.4|     (30K)|     TV Series|               Bluey|\n",
            "|16. Fullmetal Alc...|2009�2010|        68 eps| PG|   9.1|    (200K)|     TV Series|Fullmetal Alchemi...|\n",
            "|  17. Rick and Morty|     2013|        74 eps| 15|   9.1|    (608K)|     TV Series|      Rick and Morty|\n",
            "|            18. Life|     2009|        11 eps|  E|   9.1|     (43K)|TV Mini Series|                Life|\n",
            "|  19. The Last Dance|     2020|        10 eps| 15|   9.1|    (154K)|TV Mini Series|      The Last Dance|\n",
            "|20. The Twilight ...|1959�1964|       156 eps| 12|   9.1|     (94K)|     TV Series|   The Twilight Zone|\n",
            "+--------------------+---------+--------------+---+------+----------+--------------+--------------------+\n",
            "only showing top 20 rows\n",
            "\n"
          ]
        }
      ]
    }
  ]
}